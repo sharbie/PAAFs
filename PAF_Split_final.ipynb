{
 "cells": [
  {
   "cell_type": "code",
   "execution_count": 1,
   "metadata": {},
   "outputs": [],
   "source": [
    "import pandas as pd\n",
    "import collections\n",
    "import timeit\n",
    "from scipy.integrate import odeint\n",
    "import matplotlib.pyplot as plt\n",
    "import networkx as nx\n",
    "import matplotlib.mlab as mlab\n",
    "import statistics\n",
    "import random\n",
    "import numpy.linalg\n",
    "import numpy as np\n",
    "import sys\n",
    "from scipy.optimize import minimize\n",
    "elapsed_time = timeit.default_timer()\n",
    "from sklearn.linear_model import LinearRegression\n",
    "from sklearn import cluster\n",
    "import seaborn as sns\n",
    "sns.set()\n",
    "from sklearn import datasets\n",
    "from sklearn.metrics import r2_score\n",
    "from matplotlib import pylab\n",
    "from matplotlib import font_manager\n",
    "import multiprocessing\n",
    "from multiprocessing import Pool\n",
    "import itertools\n",
    "%matplotlib inline"
   ]
  },
  {
   "cell_type": "code",
   "execution_count": 2,
   "metadata": {},
   "outputs": [],
   "source": [
    "def get_reactors(reac):\n",
    "    reac_split = reac.split(' ')\n",
    "    reactors = []\n",
    "    for k in reac_split:\n",
    "        if k != '&' and k!= '=>':\n",
    "            reactors.append(k)\n",
    "    return reactors[:-1]\n",
    "\n",
    "\n",
    "def Hill(reactor, n, EC50):\n",
    "    B = (EC50**n-1)/(2*EC50**n-1)\n",
    "    C = (B-1)**(1/n)\n",
    "    if reactor[0] == '!':\n",
    "        m = max(globals()['{}'.format(reactor[1:])], 0)\n",
    "        return (1-B*m**n/(C**n + m**n))\n",
    "    else:\n",
    "        m = max(globals()['{}'.format(reactor)], 0)\n",
    "        return B*m**n/(C**n + m**n)\n",
    "    \n",
    "# def Hill(reactor, n, EC50):\n",
    "#     B = (EC50**n-1)/(2*EC50**n-1)\n",
    "#     C = (B-1)**(1/n)\n",
    "#     if reactor[0] == '!':\n",
    "#         return (1-B*globals()['{}'.format(reactor[1:])]**n/(C**n + globals()['{}'.format(reactor[1:])]**n))\n",
    "#     else:\n",
    "#         return B*globals()['{}'.format(reactor)]**n/(C**n + globals()['{}'.format(reactor)]**n)\n",
    "\n",
    "\n",
    "\n",
    "def OR(reaction_list):\n",
    "    tera = (-1)**(len(reaction_list)+1)\n",
    "    for k in reaction_list:\n",
    "        weight, n, EC50 = reaction_list[k]\n",
    "        final = weight\n",
    "        for j in get_reactors(k):\n",
    "            final *= Hill(j, n, EC50)\n",
    "        tera *= (final-1)\n",
    "    tera +=1\n",
    "    return tera"
   ]
  },
  {
   "cell_type": "code",
   "execution_count": 3,
   "metadata": {},
   "outputs": [],
   "source": [
    "def inte(state, t, reaction_dict):\n",
    "    for i in range(len(node_ID)):\n",
    "        globals()['{}'.format(node_ID[i])] = state[i]\n",
    "    for i in range(len(node_ID)):\n",
    "        if len(reaction_dict[node_ID[i]]) == 1:\n",
    "            reactors = get_reactors(list(reaction_dict[node_ID[i]].keys())[0])\n",
    "            weight, n, EC50 = reaction_dict[node_ID[i]][list(reaction_dict[node_ID[i]].keys())[0]]\n",
    "            TF = 1\n",
    "            for j in reactors:\n",
    "                TF *= Hill(j, n, EC50)\n",
    "            globals()['{}'.format(node_ID[i] + 'd')] = (TF*weight*Ymax[i]-globals()['{}'.format(node_ID[i])])/tau[i]\n",
    "        else:\n",
    "            TF = OR(reaction_dict[node_ID[i]])\n",
    "            globals()['{}'.format(node_ID[i] + 'd')] = (TF*Ymax[i]-globals()['{}'.format(node_ID[i])])/tau[i]\n",
    "    return [globals()['{}'.format(k+ 'd')] for k in node_ID]"
   ]
  },
  {
   "cell_type": "code",
   "execution_count": 18,
   "metadata": {},
   "outputs": [],
   "source": [
    "reactions_raw = pd.read_excel('PAFModel_split_final_v3.xlsx', sheet_name = 1, skiprows = 1, header = 0)\n",
    "species_raw = pd.read_excel('PAFModel_split_final_v3.xlsx', sheet_name = 0, skiprows = 1, header = 0)"
   ]
  },
  {
   "cell_type": "code",
   "execution_count": 19,
   "metadata": {},
   "outputs": [],
   "source": [
    "species = species_raw[['ID', 'Yinit', 'Ymax', 'tau']]\n",
    "node_ID = species['ID'].tolist()\n",
    "Yinit = species['Yinit'].tolist()\n",
    "Ymax = species['Ymax'].tolist()\n",
    "tau = species['tau'].tolist()"
   ]
  },
  {
   "cell_type": "code",
   "execution_count": 20,
   "metadata": {},
   "outputs": [],
   "source": [
    "species_dict = dict()\n",
    "for k in range(len(species)):\n",
    "    #lis = species.loc[k, ['Yinit', 'Ymax', 'tau']].tolist()\n",
    "    species_dict[species.loc[k, 'ID']] = species.loc[k, ['Yinit', 'Ymax', 'tau']].tolist()\n",
    "\n",
    "state0 = []\n",
    "for k in range(len(node_ID)):\n",
    "    state0.append(Yinit[k])"
   ]
  },
  {
   "cell_type": "code",
   "execution_count": 21,
   "metadata": {},
   "outputs": [],
   "source": [
    "reactions = {\n",
    "    'rule':reactions_raw['Rule'].tolist(), \n",
    "    'weight':reactions_raw['Weight'].tolist(), \n",
    "    'n':reactions_raw['n'].tolist(), \n",
    "    'EC50':reactions_raw['EC50'].tolist()\n",
    "}\n",
    "reactions = pd.DataFrame(data = reactions)\n",
    "reaction_dict = collections.defaultdict(dict)\n",
    "for k in range(len(reactions)):\n",
    "    node = reactions.loc[k, 'rule'].split(' ')\n",
    "    reaction_dict[node[-1]][reactions.loc[k, 'rule']] = reactions.loc[k, ['weight', 'n', 'EC50']].tolist() "
   ]
  },
  {
   "cell_type": "code",
   "execution_count": 22,
   "metadata": {},
   "outputs": [],
   "source": [
    "result = 0\n",
    "total = 0\n",
    "t = np.arange(0.0, 60.0*24, 0.1)\n",
    "simu_data = odeint(inte, state0, t, args = (reaction_dict, ))"
   ]
  },
  {
   "cell_type": "code",
   "execution_count": 23,
   "metadata": {},
   "outputs": [],
   "source": [
    "gene_set = ['aSMAmRNA', 'fibmRNA', 'CImRNA', 'CIIImRNA', 'LOXmRNA', 'elastinmRNA']"
   ]
  },
  {
   "cell_type": "code",
   "execution_count": 24,
   "metadata": {},
   "outputs": [],
   "source": [
    "validation = [\n",
    "    {'input': {'stretch': 0.7, 'stiffness': 0.25}, 'results': [1,0,1,1,1,1]},\n",
    "    {'input': {'stretch': 0.25, 'stiffness': 0.7}, 'results': [1,1,1,1,1,1]},\n",
    "    {'input': {'stretch': 0.7, 'stiffness': 0.7}, 'results': [1,1,1,1,1,1]}\n",
    "]"
   ]
  },
  {
   "cell_type": "code",
   "execution_count": 25,
   "metadata": {},
   "outputs": [],
   "source": [
    "val = validation[0]\n",
    "reaction_dict['stretch']['=> stretch'][0] = 0.7 #val['input']['stretch']\n",
    "reaction_dict['stiffness']['=> stiffness'][0] = 0.25 #val['input']['stiffness']"
   ]
  },
  {
   "cell_type": "code",
   "execution_count": 26,
   "metadata": {},
   "outputs": [
    {
     "name": "stdout",
     "output_type": "stream",
     "text": [
      "aSMAmRNA\n",
      "fibmRNA\n",
      "CImRNA\n",
      "CIIImRNA\n",
      "LOXmRNA\n",
      "elastinmRNA\n"
     ]
    }
   ],
   "source": [
    "new_data = odeint(inte, state0, t, args = (reaction_dict, ))\n",
    "for each in range(len(gene_set)):\n",
    "    total += 1\n",
    "    ind = node_ID.index(gene_set[each])\n",
    "    if abs(new_data[-1, ind] - simu_data[-1, ind]) < 0.05 and val['results'][each] == 0:\n",
    "        result += 1\n",
    "        print(gene_set[each])\n",
    "    elif new_data[-1, ind] - simu_data[-1, ind] >= 0.05 and val['results'][each] == 1:\n",
    "        result += 1\n",
    "        print(gene_set[each])"
   ]
  },
  {
   "cell_type": "code",
   "execution_count": 30,
   "metadata": {},
   "outputs": [
    {
     "name": "stdout",
     "output_type": "stream",
     "text": [
      "aSMAmRNA 0.9995800876772281 0.2074244259535904\n",
      "fibmRNA 0.9677036602962507 0.02047667036624688\n",
      "CImRNA 0.999766511348223 0.09544987204040406\n",
      "CIIImRNA 0.999766511348223 0.09544987204040406\n",
      "LOXmRNA 0.91080816257053 0.004057539623179771\n",
      "elastinmRNA 0.9997286779260266 0.3487474410088779\n"
     ]
    }
   ],
   "source": [
    "reaction_dict['stretch']['=> stretch'][0] = 0.25 #val['input']['stretch']\n",
    "reaction_dict['stiffness']['=> stiffness'][0] = 0.9 #val['input']['stiffness']\n",
    "new_data = odeint(inte, state0, t, args = (reaction_dict, ))\n",
    "for i in gene_set:\n",
    "    print(i, new_data[-1, node_ID.index(i)], simu_data[-1, node_ID.index(i)])\n",
    "reaction_dict['stretch']['=> stretch'][0] = 0.25\n",
    "reaction_dict['stiffness']['=> stiffness'][0] = 0.25"
   ]
  },
  {
   "cell_type": "code",
   "execution_count": null,
   "metadata": {},
   "outputs": [],
   "source": []
  },
  {
   "cell_type": "code",
   "execution_count": null,
   "metadata": {},
   "outputs": [],
   "source": []
  },
  {
   "cell_type": "code",
   "execution_count": null,
   "metadata": {},
   "outputs": [],
   "source": []
  },
  {
   "cell_type": "code",
   "execution_count": 33,
   "metadata": {},
   "outputs": [
    {
     "name": "stdout",
     "output_type": "stream",
     "text": [
      "aSMAmRNA 1.0 0.3051018117912602\n",
      "fibmRNA 1.0000000000000004 0.09045635921272627\n",
      "CImRNA 1.0 0.10953904674701133\n",
      "CIIImRNA 1.0 0.10953904674701133\n",
      "LOXmRNA 0.9108081625742391 0.004057539623213023\n",
      "elastinmRNA 1.0 0.8671041859042781\n"
     ]
    }
   ],
   "source": [
    "reaction_dict['stretch']['=> stretch'][0] = 0.25 #val['input']['stretch']\n",
    "reaction_dict['stiffness']['=> stiffness'][0] = 0.9 #val['input']['stiffness']\n",
    "new_data = odeint(inte, state0, t, args = (reaction_dict, ))\n",
    "for i in gene_set:\n",
    "    print(i, new_data[-1, node_ID.index(i)], simu_data[-1, node_ID.index(i)])\n",
    "reaction_dict['stretch']['=> stretch'][0] = 0.25\n",
    "reaction_dict['stiffness']['=> stiffness'][0] = 0.25"
   ]
  },
  {
   "cell_type": "code",
   "execution_count": 15,
   "metadata": {},
   "outputs": [],
   "source": [
    "### Stiffness\n",
    "reaction_dict['stretch']['=> stretch'][0] = 0.25 #val['input']['stretch']\n",
    "reaction_dict['stiffness']['=> stiffness'][0] = 0.7 #val['input']['stiffness']\n",
    "new_data_stiff = odeint(inte, state0, t, args = (reaction_dict, ))"
   ]
  },
  {
   "cell_type": "code",
   "execution_count": 17,
   "metadata": {},
   "outputs": [],
   "source": [
    "reaction_dict['stretch']['=> stretch'][0] = 0.25 #val['input']['stretch']\n",
    "reaction_dict['stiffness']['=> stiffness'][0] = 0.5 #val['input']['stiffness']\n",
    "new_data_stiff_05 = odeint(inte, state0, t, args = (reaction_dict, ))"
   ]
  },
  {
   "cell_type": "code",
   "execution_count": 18,
   "metadata": {},
   "outputs": [
    {
     "name": "stdout",
     "output_type": "stream",
     "text": [
      "aSMAmRNA 0.8153537237740632 0.39417531796769795 0.1843143862785706\n",
      "fibmRNA 0.38721558992443444 0.06443882836832689 0.008786498727480895\n",
      "CImRNA 0.8342046855641327 0.35383853242686686 0.09542702354558442\n",
      "CIIImRNA 0.8342046855641327 0.35383853242686686 0.09542702354558442\n",
      "LOXmRNA 0.36887717994382013 0.07323618418293029 0.004057539623184128\n",
      "elastinmRNA 0.8712863205605864 0.49068242436868537 0.21156795223992605\n"
     ]
    }
   ],
   "source": [
    "for i in gene_set:\n",
    "    print(i, new_data_stiff[-1, node_ID.index(i)], new_data_stiff_05[-1, node_ID.index(i)], simu_data[-1, node_ID.index(i)])"
   ]
  },
  {
   "cell_type": "code",
   "execution_count": 108,
   "metadata": {},
   "outputs": [],
   "source": [
    "# inhibit ERK1_2 and check fibmRNA\n",
    "reaction_dict['stretch']['=> stretch'][0] = 0.25 #val['input']['stretch']\n",
    "reaction_dict['stiffness']['=> stiffness'][0] = 0.7 #val['input']['stiffness']\n",
    "inhi_data_0 = odeint(inte, simu_data[-1,:], t, args = (reaction_dict, ))\n",
    "Ymax[node_ID.index('AT1R')] = 0\n",
    "reaction_dict['stretch']['=> stretch'][0] = 0.25 #val['input']['stretch']\n",
    "reaction_dict['stiffness']['=> stiffness'][0] = 0.7 #val['input']['stiffness']\n",
    "inhi_data_1 = odeint(inte, simu_data[-1,:], t, args = (reaction_dict, ))\n",
    "Ymax[node_ID.index('AT1R')] = 1\n",
    "reaction_dict['stretch']['=> stretch'][0] = 0.25 #val['input']['stretch']\n",
    "reaction_dict['stiffness']['=> stiffness'][0] = 0.25 #val['input']['stiffness']"
   ]
  },
  {
   "cell_type": "code",
   "execution_count": 109,
   "metadata": {},
   "outputs": [
    {
     "name": "stdout",
     "output_type": "stream",
     "text": [
      "aSMAmRNA 0.6664228726490116 0.8274630132962674 -0.1610401406472558\n",
      "fibmRNA 0.24111930244845228 0.4177354951353813 -0.176616192686929\n",
      "CImRNA 0.6490835387180411 0.8358297916527058 -0.18674625293466462\n",
      "CIIImRNA 0.6490835387180411 0.8358297916527058 -0.18674625293466462\n",
      "LOXmRNA 0.36887717994341945 0.36887718005132364 -1.0790418558670467e-10\n",
      "elastinmRNA 0.7846077077055873 0.8847840998604697 -0.10017639215488239\n"
     ]
    }
   ],
   "source": [
    "for i in gene_set:\n",
    "    print(i, \n",
    "          inhi_data_1[-1,node_ID.index(i)], \n",
    "          inhi_data_0[-1,node_ID.index(i)],\n",
    "          inhi_data_1[-1,node_ID.index(i)] - inhi_data_0[-1,node_ID.index(i)]\n",
    "    )"
   ]
  },
  {
   "cell_type": "code",
   "execution_count": null,
   "metadata": {},
   "outputs": [],
   "source": []
  },
  {
   "cell_type": "code",
   "execution_count": 85,
   "metadata": {},
   "outputs": [],
   "source": [
    "reaction_dict['elastinmRNA']['!JNK1_2 => elastinmRNA'][0] = 0.25"
   ]
  },
  {
   "cell_type": "code",
   "execution_count": 84,
   "metadata": {},
   "outputs": [],
   "source": [
    "Ymax[node_ID.index('AT1R')] = 1"
   ]
  },
  {
   "cell_type": "code",
   "execution_count": 82,
   "metadata": {},
   "outputs": [],
   "source": [
    "# inhibit ERK1_2 and check fibmRNA\n",
    "Ymax[node_ID.index('AT1R')] = 0\n",
    "reaction_dict['stretch']['=> stretch'][0] = 0.25 #val['input']['stretch']\n",
    "reaction_dict['stiffness']['=> stiffness'][0] = 0.25 #val['input']['stiffness']\n",
    "inhi_data_0 = odeint(inte, state0, t, args = (reaction_dict, ))\n",
    "reaction_dict['stretch']['=> stretch'][0] = 0.7 #val['input']['stretch']\n",
    "reaction_dict['stiffness']['=> stiffness'][0] = 0.25 #val['input']['stiffness']\n",
    "inhi_data_1 = odeint(inte, state0, t, args = (reaction_dict, ))\n",
    "Ymax[node_ID.index('AT1R')] = 1"
   ]
  },
  {
   "cell_type": "code",
   "execution_count": 83,
   "metadata": {},
   "outputs": [
    {
     "name": "stdout",
     "output_type": "stream",
     "text": [
      "aSMAmRNA 0.20605675570751147 0.20605675570751097 4.996003610813204e-16\n",
      "fibmRNA 0.02019461723180295 0.02019461723180293 2.0816681711721685e-17\n",
      "CImRNA 0.41463839708108524 0.07627096264857465 0.3383674344325106\n",
      "CIIImRNA 0.41463839708108524 0.07627096264857465 0.3383674344325106\n",
      "LOXmRNA 0.3688771799436368 0.004057539623183182 0.3648196403204536\n",
      "elastinmRNA 0.3638587992672011 0.36385879926720094 1.6653345369377348e-16\n"
     ]
    }
   ],
   "source": [
    "for each in range(len(gene_set)):\n",
    "    ind = node_ID.index(gene_set[each])\n",
    "    print(gene_set[each], inhi_data_1[-1, ind], inhi_data_0[-1, ind], inhi_data_1[-1, ind] - inhi_data_0[-1, ind])"
   ]
  },
  {
   "cell_type": "code",
   "execution_count": 15,
   "metadata": {},
   "outputs": [
    {
     "name": "stdout",
     "output_type": "stream",
     "text": [
      "aSMAmRNA 0.10824301073936947 0.10824258951952573 4.2121984374088317e-07\n",
      "fibmRNA 9.998932775185369e-05 9.999747324066353e-05 -8.145488809846316e-09\n",
      "CImRNA 0.09654841469700748 0.09654798980555812 4.24891449357645e-07\n",
      "CIIImRNA 0.09654841469700748 0.09654798980555812 4.24891449357645e-07\n",
      "LOXmRNA 0.026589950562745046 0.026589800312396217 1.502503488293172e-07\n",
      "elastinmRNA 0.2093628525738699 0.20936219756947308 6.550043968323038e-07\n"
     ]
    }
   ],
   "source": [
    "for each in range(len(gene_set)):\n",
    "    ind = node_ID.index(gene_set[each])\n",
    "    print(gene_set[each], new_data[-1, ind], simu_data[-1, ind], new_data[-1, ind] - simu_data[-1, ind])"
   ]
  },
  {
   "cell_type": "code",
   "execution_count": null,
   "metadata": {},
   "outputs": [],
   "source": []
  },
  {
   "cell_type": "code",
   "execution_count": null,
   "metadata": {},
   "outputs": [],
   "source": []
  },
  {
   "cell_type": "code",
   "execution_count": null,
   "metadata": {},
   "outputs": [],
   "source": []
  },
  {
   "cell_type": "code",
   "execution_count": 19,
   "metadata": {},
   "outputs": [
    {
     "data": {
      "text/plain": [
       "0.02325566870445391"
      ]
     },
     "execution_count": 19,
     "metadata": {},
     "output_type": "execute_result"
    }
   ],
   "source": [
    "new_data[-1, node_ID.index('fibmRNA')]"
   ]
  },
  {
   "cell_type": "code",
   "execution_count": 20,
   "metadata": {},
   "outputs": [
    {
     "data": {
      "text/plain": [
       "0.008786498727480614"
      ]
     },
     "execution_count": 20,
     "metadata": {},
     "output_type": "execute_result"
    }
   ],
   "source": [
    "simu_data[-1, node_ID.index('fibmRNA')]"
   ]
  },
  {
   "cell_type": "code",
   "execution_count": 158,
   "metadata": {},
   "outputs": [],
   "source": [
    "valid = dict() ## {}\n",
    "valid['TGFB'] = {\n",
    "    'aSMA': 1,\n",
    "    'proliferation': 1,\n",
    "    'migration': 1,\n",
    "    'CI': 1,\n",
    "    'CIII': 1,\n",
    "    'clOPN': 0,\n",
    "    'fibronectin': 0,\n",
    "    'p38': 1,\n",
    "    'ERK1_2': 1,\n",
    "    'elastin': 1\n",
    "}\n",
    "\n",
    "\n",
    "valid['AngII'] = {\n",
    "    'migration': 1,\n",
    "    'proliferation': 1,\n",
    "    'CI': 1,\n",
    "    'Nox4': -1,\n",
    "    'ET1': 1\n",
    "}\n",
    "\n",
    "\n",
    "\"\"\"valid['mechanical'] = {\n",
    "    'aSMA': -1,\n",
    "    'proliferation': 1,\n",
    "    'MMP2': 1,\n",
    "    'MMP9': 0,\n",
    "    'miR130_301': 1\n",
    "}\"\"\"\n",
    "\n",
    "\n",
    "valid['TNFa'] = {\n",
    "    'IL6': 1,\n",
    "    'ROS': 1,\n",
    "    'Akt': 0\n",
    "}\n",
    "\n",
    "valid['hypoxia'] = {\n",
    "    'Nox4': 1,\n",
    "    'proliferation': 1,\n",
    "    'ROS': 1,\n",
    "    'CI': 1,\n",
    "    'fibronectin': 1,\n",
    "    'LOX': 1,\n",
    "    'MMP2': 1,\n",
    "    'aSMA': 0,\n",
    "    'HIF1a': 1\n",
    "}\n",
    "\n",
    "valid['FGF'] = {\n",
    "    'aSMA': 1,\n",
    "    'proliferation': 1,\n",
    "    'TGFB': 1\n",
    "}\n",
    "\n",
    "valid['PDGF'] = {\n",
    "    'migration': 1,\n",
    "    'MMP2': 1,\n",
    "    'TIMP1': -1,\n",
    "    'CI': 1\n",
    "}"
   ]
  },
  {
   "cell_type": "code",
   "execution_count": 159,
   "metadata": {},
   "outputs": [
    {
     "name": "stdout",
     "output_type": "stream",
     "text": [
      "TGFB aSMA big\n",
      "TGFB proliferation big\n",
      "TGFB migration big\n",
      "TGFB CI big\n",
      "TGFB CIII big\n",
      "TGFB clOPN equal\n",
      "TGFB p38 big\n",
      "TGFB elastin big\n",
      "AngII migration big\n",
      "AngII proliferation big\n",
      "AngII CI big\n",
      "AngII ET1 big\n",
      "TNFa IL6 big\n",
      "TNFa ROS big\n",
      "TNFa Akt equal\n",
      "hypoxia Nox4 big\n",
      "hypoxia proliferation big\n",
      "hypoxia ROS big\n",
      "hypoxia CI big\n",
      "hypoxia fibronectin big\n",
      "hypoxia MMP2 big\n",
      "hypoxia HIF1a big\n",
      "FGF aSMA big\n",
      "FGF proliferation big\n",
      "FGF TGFB big\n",
      "PDGF migration big\n",
      "PDGF MMP2 big\n",
      "PDGF TIMP1 small\n",
      "0.8235294117647058\n"
     ]
    }
   ],
   "source": [
    "reaction_dict['stretch']['=> stretch'][0] = 0.25\n",
    "reaction_dict['stiffness']['=> stiffness'][0] = 0.25\n",
    "val_res = 0\n",
    "val_tot = 0\n",
    "for i in valid:\n",
    "    reaction_dict[i]['=> '+i][0] = 0.7 #val['input']['stretch']\n",
    "    new_d = odeint(inte, state0, t, args = (reaction_dict, ))\n",
    "    for j in valid[i]:\n",
    "        ind = node_ID.index(j)\n",
    "        if abs(new_d[-1, ind] - simu_data[-1, ind]) < 0.05 and valid[i][j] == 0:\n",
    "            print(i,j,'equal')\n",
    "            val_res += 1\n",
    "        elif new_d[-1, ind] - simu_data[-1, ind] >= 0.05 and valid[i][j] == 1:\n",
    "            print(i,j,'big')\n",
    "            val_res += 1\n",
    "        elif new_d[-1, ind] - simu_data[-1, ind] <= -0.05 and valid[i][j] == -1:\n",
    "            print(i,j,'small')\n",
    "            val_res += 1\n",
    "        val_tot += 1\n",
    "    reaction_dict[i]['=> '+i][0] = 0.25\n",
    "print(val_res/val_tot)"
   ]
  },
  {
   "cell_type": "code",
   "execution_count": 65,
   "metadata": {},
   "outputs": [
    {
     "name": "stdout",
     "output_type": "stream",
     "text": [
      "migration 0.7455566343228395 0.4064418827653384\n",
      "proliferation 0.48932834263481734 0.12857436948637588\n",
      "CI 0.3396245240078694 0.07091980972885778\n",
      "Nox4 0.21069175159689768 0.2106917515967806\n"
     ]
    }
   ],
   "source": [
    "reaction_dict['AngII']['=> '+'AngII'][0] = 0.7 \n",
    "new_d = odeint(inte, state0, t, args = (reaction_dict, ))\n",
    "reaction_dict['AngII']['=> '+'AngII'][0] = 0.25 \n",
    "for i in valid['AngII']:\n",
    "    print(\n",
    "        i,\n",
    "        new_d[-1, node_ID.index(i)],\n",
    "        simu_data[-1, node_ID.index(i)]\n",
    "    )"
   ]
  },
  {
   "cell_type": "code",
   "execution_count": 56,
   "metadata": {},
   "outputs": [
    {
     "name": "stdout",
     "output_type": "stream",
     "text": [
      "aSMA 0.7270555645788085 0.09747339792890355\n",
      "proliferation 0.7166761493771384 0.1285743694863738\n",
      "migration 0.9057482832807431 0.40644188276530924\n",
      "CI 0.7032049233716561 0.11054304249685055\n",
      "CIII 0.7032049233716561 0.11054304249685055\n",
      "clOPN 0.15452526915866113 0.15452526915866116\n",
      "fibronectin 0.2407416154383924 0.0013811069090189614\n",
      "p38 0.5667777801511601 0.0728609885366138\n",
      "ERK1_2 0.6550154873370723 0.3385081160402905\n",
      "elastin 0.4256626598247412 0.7436322904767856\n"
     ]
    }
   ],
   "source": []
  },
  {
   "cell_type": "code",
   "execution_count": 128,
   "metadata": {},
   "outputs": [
    {
     "data": {
      "text/plain": [
       "0.3618635655691112"
      ]
     },
     "execution_count": 128,
     "metadata": {},
     "output_type": "execute_result"
    }
   ],
   "source": [
    "simu_data[-1, node_ID.index('TGFB')]"
   ]
  },
  {
   "cell_type": "code",
   "execution_count": null,
   "metadata": {},
   "outputs": [],
   "source": []
  },
  {
   "cell_type": "code",
   "execution_count": 42,
   "metadata": {},
   "outputs": [],
   "source": [
    "def get_relation(reac):\n",
    "    split_reac = reac.split(' ')\n",
    "    if len(split_reac) ==2:\n",
    "        return ['Input', split_reac[1]]\n",
    "    else:\n",
    "        reactor = []\n",
    "        for k in split_reac[:-2]:\n",
    "            if k!= '&':\n",
    "                reactor.append(getout_inhib(k))\n",
    "        return [reactor, split_reac[-1]]\n",
    "def getout_inhib(node):\n",
    "    if node[0] == '!':\n",
    "        return node[1:]\n",
    "    else:\n",
    "        return node\n",
    "    \n",
    "rules = reactions['rule'].tolist()\n",
    "relationship = []\n",
    "relationship_network = []\n",
    "for k in rules:\n",
    "    if get_relation(k)[0] == 'Input':\n",
    "        relationship.append(tuple(get_relation(k)+[node_ID.index(get_relation(k)[1])]))\n",
    "        relationship_network.append(tuple(get_relation(k)))\n",
    "    else:\n",
    "        for i in get_relation(k)[0]:\n",
    "            relationship.append((i, get_relation(k)[1], node_ID.index(get_relation(k)[1])))\n",
    "            relationship_network.append((i, get_relation(k)[1]))\n",
    "            \n",
    "xxx = pd.DataFrame(columns = ['Start', 'End', 'End_Index'])\n",
    "for i in relationship:\n",
    "    xxx.loc[len(xxx)] = list(i)"
   ]
  },
  {
   "cell_type": "code",
   "execution_count": 43,
   "metadata": {},
   "outputs": [],
   "source": [
    "NetworkA = nx.DiGraph()\n",
    "NetworkA.add_nodes_from(node_ID)\n",
    "NetworkA.add_edges_from(relationship_network)"
   ]
  },
  {
   "cell_type": "code",
   "execution_count": 44,
   "metadata": {},
   "outputs": [],
   "source": [
    "paths_between_generator_fibmrna = nx.all_simple_paths(NetworkA, source = 'stretch', target = 'aSMAmRNA')"
   ]
  },
  {
   "cell_type": "code",
   "execution_count": null,
   "metadata": {},
   "outputs": [],
   "source": []
  },
  {
   "cell_type": "code",
   "execution_count": 45,
   "metadata": {},
   "outputs": [
    {
     "data": {
      "image/png": "[encoded data removed]",
      "text/plain": [
       "<Figure size 432x288 with 1 Axes>"
      ]
     },
     "metadata": {},
     "output_type": "display_data"
    }
   ],
   "source": [
    "nodes_between_set_fibmrna = {node for path in paths_between_generator_fibmrna for node in path}\n",
    "SG_fibmrna = NetworkA.subgraph(nodes_between_set_fibmrna)\n",
    "nx.draw(SG_fibmrna,  pos=nx.spring_layout(SG_fibmrna), with_labels=True)\n",
    "plt.show()"
   ]
  },
  {
   "cell_type": "code",
   "execution_count": 20,
   "metadata": {},
   "outputs": [],
   "source": [
    "import json"
   ]
  },
  {
   "cell_type": "code",
   "execution_count": 21,
   "metadata": {},
   "outputs": [],
   "source": [
    "nodes = [{'name': str(i)} for i in SG_fibmrna.nodes()]\n",
    "links = [{'source': u[0], 'target': u[1]}\n",
    "         for u in SG_fibmrna.edges()]\n",
    "with open('graph.json', 'w') as f:\n",
    "    json.dump({'nodes': nodes, 'links': links},\n",
    "              f, indent=4,)"
   ]
  },
  {
   "cell_type": "code",
   "execution_count": null,
   "metadata": {},
   "outputs": [],
   "source": []
  },
  {
   "cell_type": "code",
   "execution_count": null,
   "metadata": {},
   "outputs": [],
   "source": []
  },
  {
   "cell_type": "code",
   "execution_count": 22,
   "metadata": {},
   "outputs": [
    {
     "data": {
      "text/html": [
       "<div id=\"d3-example\"></div>\n",
       "<style>\n",
       ".node {stroke: #fff; stroke-width: 1.5px;}\n",
       ".link {stroke: #999; stroke-opacity: .6;}\n",
       "</style>\n"
      ],
      "text/plain": [
       "<IPython.core.display.HTML object>"
      ]
     },
     "metadata": {},
     "output_type": "display_data"
    }
   ],
   "source": [
    "%%html\n",
    "<div id=\"d3-example\"></div>\n",
    "<style>\n",
    ".node {stroke: #fff; stroke-width: 1.5px;}\n",
    ".link {stroke: #999; stroke-opacity: .6;}\n",
    "</style>"
   ]
  },
  {
   "cell_type": "code",
   "execution_count": 23,
   "metadata": {},
   "outputs": [
    {
     "data": {
      "application/javascript": [
       "// We load the d3.js library from the Web.\n",
       "require.config({paths:\n",
       "    {d3: \"http://d3js.org/d3.v3.min\"}});\n",
       "require([\"d3\"], function(d3) {\n",
       "  // The code in this block is executed when the\n",
       "  // d3.js library has been loaded.\n",
       "\n",
       "  // First, we specify the size of the canvas\n",
       "  // containing the visualization (size of the\n",
       "  // <div> element).\n",
       "  var width = 300, height = 300;\n",
       "\n",
       "  // We create a color scale.\n",
       "  var color = d3.scale.category10();\n",
       "\n",
       "  // We create a force-directed dynamic graph layout.\n",
       "  var force = d3.layout.force()\n",
       "    .charge(-120)\n",
       "    .linkDistance(30)\n",
       "    .size([width, height]);\n",
       "\n",
       "  // In the <div> element, we create a <svg> graphic\n",
       "  // that will contain our interactive visualization.\n",
       "  var svg = d3.select(\"#d3-example\").select(\"svg\")\n",
       "  if (svg.empty()) {\n",
       "    svg = d3.select(\"#d3-example\").append(\"svg\")\n",
       "          .attr(\"width\", width)\n",
       "          .attr(\"height\", height);\n",
       "  }\n",
       "\n",
       "  // We load the JSON file.\n",
       "  d3.json(\"graph.json\", function(error, graph) {\n",
       "    // In this block, the file has been loaded\n",
       "    // and the 'graph' object contains our graph.\n",
       "\n",
       "    // We load the nodes and links in the\n",
       "    // force-directed graph.\n",
       "    force.nodes(graph.nodes)\n",
       "      .links(graph.links)\n",
       "      .start();\n",
       "\n",
       "    // We create a <line> SVG element for each link\n",
       "    // in the graph.\n",
       "    var link = svg.selectAll(\".link\")\n",
       "      .data(graph.links)\n",
       "      .enter().append(\"line\")\n",
       "      .attr(\"class\", \"link\");\n",
       "\n",
       "    // We create a <circle> SVG element for each node\n",
       "    // in the graph, and we specify a few attributes.\n",
       "    var node = svg.selectAll(\".node\")\n",
       "      .data(graph.nodes)\n",
       "      .enter().append(\"circle\")\n",
       "      .attr(\"class\", \"node\")\n",
       "      .attr(\"r\", 5)  // radius\n",
       "      .style(\"fill\", function(d) {\n",
       "         // The node color depends on the club.\n",
       "         return color(d.club);\n",
       "      })\n",
       "      .call(force.drag);\n",
       "\n",
       "    // The name of each node is the node number.\n",
       "    node.append(\"title\")\n",
       "        .text(function(d) { return d.name; });\n",
       "\n",
       "    // We bind the positions of the SVG elements\n",
       "    // to the positions of the dynamic force-directed\n",
       "    // graph, at each time step.\n",
       "    force.on(\"tick\", function() {\n",
       "      link.attr(\"x1\", function(d){return d.source.x})\n",
       "          .attr(\"y1\", function(d){return d.source.y})\n",
       "          .attr(\"x2\", function(d){return d.target.x})\n",
       "          .attr(\"y2\", function(d){return d.target.y});\n",
       "\n",
       "      node.attr(\"cx\", function(d){return d.x})\n",
       "          .attr(\"cy\", function(d){return d.y});\n",
       "    });\n",
       "  });\n",
       "});\n"
      ],
      "text/plain": [
       "<IPython.core.display.Javascript object>"
      ]
     },
     "metadata": {},
     "output_type": "display_data"
    }
   ],
   "source": [
    "%%javascript\n",
    "// We load the d3.js library from the Web.\n",
    "require.config({paths:\n",
    "    {d3: \"http://d3js.org/d3.v3.min\"}});\n",
    "require([\"d3\"], function(d3) {\n",
    "  // The code in this block is executed when the\n",
    "  // d3.js library has been loaded.\n",
    "\n",
    "  // First, we specify the size of the canvas\n",
    "  // containing the visualization (size of the\n",
    "  // <div> element).\n",
    "  var width = 300, height = 300;\n",
    "\n",
    "  // We create a color scale.\n",
    "  var color = d3.scale.category10();\n",
    "\n",
    "  // We create a force-directed dynamic graph layout.\n",
    "  var force = d3.layout.force()\n",
    "    .charge(-120)\n",
    "    .linkDistance(30)\n",
    "    .size([width, height]);\n",
    "\n",
    "  // In the <div> element, we create a <svg> graphic\n",
    "  // that will contain our interactive visualization.\n",
    "  var svg = d3.select(\"#d3-example\").select(\"svg\")\n",
    "  if (svg.empty()) {\n",
    "    svg = d3.select(\"#d3-example\").append(\"svg\")\n",
    "          .attr(\"width\", width)\n",
    "          .attr(\"height\", height);\n",
    "  }\n",
    "\n",
    "  // We load the JSON file.\n",
    "  d3.json(\"graph.json\", function(error, graph) {\n",
    "    // In this block, the file has been loaded\n",
    "    // and the 'graph' object contains our graph.\n",
    "\n",
    "    // We load the nodes and links in the\n",
    "    // force-directed graph.\n",
    "    force.nodes(graph.nodes)\n",
    "      .links(graph.links)\n",
    "      .start();\n",
    "\n",
    "    // We create a <line> SVG element for each link\n",
    "    // in the graph.\n",
    "    var link = svg.selectAll(\".link\")\n",
    "      .data(graph.links)\n",
    "      .enter().append(\"line\")\n",
    "      .attr(\"class\", \"link\");\n",
    "\n",
    "    // We create a <circle> SVG element for each node\n",
    "    // in the graph, and we specify a few attributes.\n",
    "    var node = svg.selectAll(\".node\")\n",
    "      .data(graph.nodes)\n",
    "      .enter().append(\"circle\")\n",
    "      .attr(\"class\", \"node\")\n",
    "      .attr(\"r\", 5)  // radius\n",
    "      .style(\"fill\", function(d) {\n",
    "         // The node color depends on the club.\n",
    "         return color(d.club);\n",
    "      })\n",
    "      .call(force.drag);\n",
    "\n",
    "    // The name of each node is the node number.\n",
    "    node.append(\"title\")\n",
    "        .text(function(d) { return d.name; });\n",
    "\n",
    "    // We bind the positions of the SVG elements\n",
    "    // to the positions of the dynamic force-directed\n",
    "    // graph, at each time step.\n",
    "    force.on(\"tick\", function() {\n",
    "      link.attr(\"x1\", function(d){return d.source.x})\n",
    "          .attr(\"y1\", function(d){return d.source.y})\n",
    "          .attr(\"x2\", function(d){return d.target.x})\n",
    "          .attr(\"y2\", function(d){return d.target.y});\n",
    "\n",
    "      node.attr(\"cx\", function(d){return d.x})\n",
    "          .attr(\"cy\", function(d){return d.y});\n",
    "    });\n",
    "  });\n",
    "});"
   ]
  },
  {
   "cell_type": "code",
   "execution_count": null,
   "metadata": {},
   "outputs": [],
   "source": []
  },
  {
   "cell_type": "code",
   "execution_count": null,
   "metadata": {},
   "outputs": [],
   "source": []
  },
  {
   "cell_type": "code",
   "execution_count": null,
   "metadata": {},
   "outputs": [],
   "source": []
  },
  {
   "cell_type": "code",
   "execution_count": null,
   "metadata": {},
   "outputs": [],
   "source": []
  },
  {
   "cell_type": "code",
   "execution_count": 24,
   "metadata": {},
   "outputs": [
    {
     "name": "stdout",
     "output_type": "stream",
     "text": [
      "0.0\n"
     ]
    }
   ],
   "source": [
    "count = 0\n",
    "total = 0\n",
    "for a in list(nx.all_simple_paths(NetworkA, source = 'stretch', target = 'elastinmRNA')):\n",
    "    if 'B3int' in a or 'MST1_2' in a:\n",
    "        count += 1\n",
    "    total += 1\n",
    "print(count/total)"
   ]
  },
  {
   "cell_type": "code",
   "execution_count": 27,
   "metadata": {},
   "outputs": [
    {
     "data": {
      "text/plain": [
       "45"
      ]
     },
     "execution_count": 27,
     "metadata": {},
     "output_type": "execute_result"
    }
   ],
   "source": [
    "len(list(nx.all_simple_paths(NetworkA, source = 'stretch', target = 'elastinmRNA')))"
   ]
  },
  {
   "cell_type": "code",
   "execution_count": 25,
   "metadata": {},
   "outputs": [
    {
     "name": "stdout",
     "output_type": "stream",
     "text": [
      "['stretch', 'AngII', 'AT1R', 'ERK1_2', 'MMP2', 'TGFB', 'PDE1A', 'PKCa', 'elastinmRNA']\n",
      "['stretch', 'AngII', 'AT1R', 'ERK1_2', 'MMP2', 'TGFB', 'TGFBR', 'elastinmRNA']\n",
      "['stretch', 'AngII', 'AT1R', 'ERK1_2', 'JNK1_2', 'AP1', 'TIMP1', 'MMP9', 'TGFB', 'PDE1A', 'PKCa', 'elastinmRNA']\n",
      "['stretch', 'AngII', 'AT1R', 'ERK1_2', 'JNK1_2', 'AP1', 'TIMP1', 'MMP9', 'TGFB', 'TGFBR', 'elastinmRNA']\n",
      "['stretch', 'AngII', 'AT1R', 'ERK1_2', 'JNK1_2', 'AP1', 'TIMP1', 'MMP2', 'TGFB', 'PDE1A', 'PKCa', 'elastinmRNA']\n",
      "['stretch', 'AngII', 'AT1R', 'ERK1_2', 'JNK1_2', 'AP1', 'TIMP1', 'MMP2', 'TGFB', 'TGFBR', 'elastinmRNA']\n",
      "['stretch', 'AngII', 'AT1R', 'ERK1_2', 'JNK1_2', 'AP1', 'proMMP2', 'MMP2', 'TGFB', 'PDE1A', 'PKCa', 'elastinmRNA']\n",
      "['stretch', 'AngII', 'AT1R', 'ERK1_2', 'JNK1_2', 'AP1', 'proMMP2', 'MMP2', 'TGFB', 'TGFBR', 'elastinmRNA']\n",
      "['stretch', 'AngII', 'AT1R', 'ERK1_2', 'JNK1_2', 'AP1', 'proMMP9', 'MMP9', 'TGFB', 'PDE1A', 'PKCa', 'elastinmRNA']\n",
      "['stretch', 'AngII', 'AT1R', 'ERK1_2', 'JNK1_2', 'AP1', 'proMMP9', 'MMP9', 'TGFB', 'TGFBR', 'elastinmRNA']\n",
      "['stretch', 'AngII', 'AT1R', 'ERK1_2', 'JNK1_2', 'AP1', 'latentTGFB', 'TGFB', 'PDE1A', 'PKCa', 'elastinmRNA']\n",
      "['stretch', 'AngII', 'AT1R', 'ERK1_2', 'JNK1_2', 'AP1', 'latentTGFB', 'TGFB', 'TGFBR', 'elastinmRNA']\n",
      "['stretch', 'AngII', 'AT1R', 'ERK1_2', 'JNK1_2', 'elastinmRNA']\n"
     ]
    }
   ],
   "source": [
    "for i in list(nx.all_simple_paths(NetworkA, source = 'stretch', target = 'elastinmRNA')):\n",
    "    print(i)"
   ]
  },
  {
   "cell_type": "code",
   "execution_count": null,
   "metadata": {},
   "outputs": [],
   "source": []
  },
  {
   "cell_type": "code",
   "execution_count": 33,
   "metadata": {},
   "outputs": [
    {
     "name": "stdout",
     "output_type": "stream",
     "text": [
      "['stretch', 'syndecan4', 'calcineurin', 'NFAT', 'clOPN', 'ERK1_2', 'p38', 'NFKB', 'fibmRNA']\n",
      "['stretch', 'AngII', 'AT1R', 'ERK1_2', 'p38', 'NFKB', 'fibmRNA']\n",
      "['stretch', 'TGFB', 'TGFBR', 'smad2_3', 'ERK1_2', 'p38', 'NFKB', 'fibmRNA']\n"
     ]
    }
   ],
   "source": [
    "for i in list(nx.all_simple_paths(NetworkA, source = 'stretch', target = 'fibmRNA')):\n",
    "    print(i)"
   ]
  },
  {
   "cell_type": "code",
   "execution_count": null,
   "metadata": {},
   "outputs": [],
   "source": []
  },
  {
   "cell_type": "code",
   "execution_count": null,
   "metadata": {},
   "outputs": [],
   "source": []
  },
  {
   "cell_type": "code",
   "execution_count": null,
   "metadata": {},
   "outputs": [],
   "source": []
  },
  {
   "cell_type": "code",
   "execution_count": null,
   "metadata": {},
   "outputs": [],
   "source": []
  },
  {
   "cell_type": "code",
   "execution_count": 39,
   "metadata": {},
   "outputs": [],
   "source": [
    "aa = sum(map(lambda x : 1 if x == 1 else 0, correct))"
   ]
  },
  {
   "cell_type": "code",
   "execution_count": 41,
   "metadata": {},
   "outputs": [
    {
     "name": "stderr",
     "output_type": "stream",
     "text": [
      "/Users/shulincao/anaconda3/lib/python3.7/site-packages/ipykernel_launcher.py:16: RuntimeWarning: invalid value encountered in double_scalars\n",
      "  app.launch_new_instance()\n"
     ]
    }
   ],
   "source": [
    "correct_2nd = []\n",
    "for i in range(len(lst)):\n",
    "    changed = []\n",
    "    for j in range(10):\n",
    "        if lst[i][j]==0:\n",
    "            m = uncertains[j].split(' => ')\n",
    "            del reaction_dict[m[1]][uncertains[j]]\n",
    "            changed.append([uncertains[j], m[1]])\n",
    "    t = np.arange(0.0, 60.0*24, 0.1)\n",
    "    reaction_dict['stretch']['=> stretch'][0] = 0.7\n",
    "    reaction_dict['stiffness']['=> stiffness'][0] = 0.7\n",
    "    simu_data = odeint(inte, state0, t, args = (reaction_dict, ))\n",
    "    reaction_dict['stiffness']['=> stiffness'][0] = 0.9\n",
    "    new_data = odeint(inte, state0, t, args = (reaction_dict, ))\n",
    "    result = 0\n",
    "    for each in gene_set:\n",
    "        ind = node_ID.index(each)\n",
    "        if each == 'aSMAmRNA' or each == 'LOXmRNA':\n",
    "            if simu_data[-1, ind] - new_data[-1, ind] >= 0.05:\n",
    "                result += 1\n",
    "        else:\n",
    "            if new_data[-1, ind] - simu_data[-1, ind] >= 0.05:\n",
    "                result += 1\n",
    "    correct_2nd.append(result/6)\n",
    "    for m in changed:\n",
    "        reaction_dict[m[1]][m[0]] = [1.0, 1.4, 0.6]\n",
    "    reaction_dict['stretch']['=> stretch'][0] = 0.25\n",
    "    reaction_dict['stiffness']['=> stiffness'][0] = 0.25"
   ]
  },
  {
   "cell_type": "code",
   "execution_count": 42,
   "metadata": {},
   "outputs": [
    {
     "data": {
      "text/plain": [
       "1024"
      ]
     },
     "execution_count": 42,
     "metadata": {},
     "output_type": "execute_result"
    }
   ],
   "source": [
    "len(correct_2nd)"
   ]
  },
  {
   "cell_type": "code",
   "execution_count": 46,
   "metadata": {},
   "outputs": [
    {
     "data": {
      "text/plain": [
       "0"
      ]
     },
     "execution_count": 46,
     "metadata": {},
     "output_type": "execute_result"
    }
   ],
   "source": [
    "aa"
   ]
  },
  {
   "cell_type": "code",
   "execution_count": null,
   "metadata": {},
   "outputs": [],
   "source": []
  },
  {
   "cell_type": "code",
   "execution_count": null,
   "metadata": {},
   "outputs": [],
   "source": [
    "t = np.arange(0.0, 60.0*24, 0.1)\n",
    "simu_data = odeint(inte, state0, t, args = (reaction_dict, ))"
   ]
  },
  {
   "cell_type": "code",
   "execution_count": 14,
   "metadata": {},
   "outputs": [],
   "source": [
    "reaction_dict['stretch']['=> stretch'][0] = 0.7\n",
    "new_data = odeint(inte, state0, t, args = (reaction_dict, ))"
   ]
  },
  {
   "cell_type": "code",
   "execution_count": 15,
   "metadata": {},
   "outputs": [],
   "source": [
    "reaction_dict['stretch']['=> stretch'][0] = 0.5\n",
    "new_data_05 = odeint(inte, state0, t, args = (reaction_dict, ))"
   ]
  },
  {
   "cell_type": "code",
   "execution_count": 16,
   "metadata": {},
   "outputs": [],
   "source": [
    "reaction_dict['stretch']['=> stretch'][0] = 0.9\n",
    "new_data_09 = odeint(inte, state0, t, args = (reaction_dict, ))"
   ]
  },
  {
   "cell_type": "code",
   "execution_count": 18,
   "metadata": {},
   "outputs": [
    {
     "name": "stdout",
     "output_type": "stream",
     "text": [
      "aSMAmRNA 0.606383553220193\n",
      "fibmRNA 0.8725947291672199\n",
      "CImRNA 0.8071580115464344\n",
      "CIIImRNA 0.8071580115464344\n",
      "LOXmRNA 0.36481964032054814\n",
      "elastinmRNA 0.1421817179916638\n"
     ]
    }
   ],
   "source": [
    "for each in gene_set:\n",
    "    ind = node_ID.index(each)\n",
    "    print(each, new_data[-1, ind] - simu_data[-1, ind])"
   ]
  },
  {
   "cell_type": "code",
   "execution_count": 19,
   "metadata": {},
   "outputs": [
    {
     "data": {
      "text/plain": [
       "{'=> stretch': [0.9, 1.4, 0.6]}"
      ]
     },
     "execution_count": 19,
     "metadata": {},
     "output_type": "execute_result"
    }
   ],
   "source": [
    "reaction_dict['stretch']"
   ]
  },
  {
   "cell_type": "code",
   "execution_count": null,
   "metadata": {},
   "outputs": [],
   "source": [
    "nodes = ['B3int', 'syndecan4', 'MST1_2', 'AngII', 'TGFB']"
   ]
  },
  {
   "cell_type": "code",
   "execution_count": null,
   "metadata": {},
   "outputs": [],
   "source": []
  },
  {
   "cell_type": "code",
   "execution_count": null,
   "metadata": {},
   "outputs": [],
   "source": []
  },
  {
   "cell_type": "code",
   "execution_count": null,
   "metadata": {},
   "outputs": [],
   "source": []
  },
  {
   "cell_type": "code",
   "execution_count": null,
   "metadata": {},
   "outputs": [],
   "source": []
  },
  {
   "cell_type": "code",
   "execution_count": null,
   "metadata": {},
   "outputs": [],
   "source": []
  }
 ],
 "metadata": {
  "kernelspec": {
   "display_name": "Python 3",
   "language": "python",
   "name": "python3"
  },
  "language_info": {
   "codemirror_mode": {
    "name": "ipython",
    "version": 3
   },
   "file_extension": ".py",
   "mimetype": "text/x-python",
   "name": "python",
   "nbconvert_exporter": "python",
   "pygments_lexer": "ipython3",
   "version": "3.7.3"
  }
 },
 "nbformat": 4,
 "nbformat_minor": 4
}
